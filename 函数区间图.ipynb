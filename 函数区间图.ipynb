{
 "cells": [
  {
   "cell_type": "code",
   "execution_count": 14,
   "id": "2cc641d3",
   "metadata": {},
   "outputs": [],
   "source": [
    "import numpy as np\n",
    "import pandas as pd\n",
    "import matplotlib as mpl\n",
    "import matplotlib.pyplot as plt\n",
    "%matplotlib inline"
   ]
  },
  {
   "cell_type": "code",
   "execution_count": 24,
   "id": "1eb51be1",
   "metadata": {},
   "outputs": [],
   "source": [
    "from matplotlib.patches import Polygon"
   ]
  },
  {
   "cell_type": "code",
   "execution_count": 70,
   "id": "9314232e",
   "metadata": {},
   "outputs": [
    {
     "data": {
      "image/png": "[encoded data removed]",
      "text/plain": [
       "<Figure size 504x360 with 1 Axes>"
      ]
     },
     "metadata": {
      "needs_background": "light"
     },
     "output_type": "display_data"
    }
   ],
   "source": [
    "def func(x):\n",
    "    return 0.5 * np.exp(x) + 1\n",
    "\n",
    "a, b = 0.5, 1.5\n",
    "x = np.linspace(0,2)\n",
    "y = func(x)\n",
    "\n",
    "fig, ax = plt.subplots(figsize=(7,5))\n",
    "plt.plot(x,y,'b',linewidth=2)\n",
    "plt.ylim(ymin=0)\n",
    "\n",
    "Ix = np.linspace(a,b)\n",
    "Iy = func(Ix)\n",
    "\n",
    "verts = [(a,0)] + list(zip(Ix, Iy)) + [(b,0)]\n",
    "poly = Polygon(verts, facecolor='0.8', edgecolor='0.7')\n",
    "ax.add_patch(poly)\n",
    "\n",
    "plt.text(1, 1, r\"$\\int_a^b f(x)\\mathrm{d}x$\", horizontalalignment='center', fontsize=20)\n",
    "plt.figtext(0.93,0.075,'$x$',fontsize=20)\n",
    "plt.figtext(0.075,0.93,'$f(x)$',fontsize=20)\n",
    "\n",
    "ax.set_xticks((a,b))\n",
    "ax.set_xticklabels(('$a$','$b$'))\n",
    "ax.set_yticks([func(a),func(b)])\n",
    "ax.set_yticklabels(('$f(a)$','$f(b)$'))\n",
    "plt.grid(True)"
   ]
  },
  {
   "cell_type": "code",
   "execution_count": 69,
   "id": "b416f8e5",
   "metadata": {},
   "outputs": [
    {
     "data": {
      "text/plain": [
       "<AxesSubplot:>"
      ]
     },
     "execution_count": 69,
     "metadata": {},
     "output_type": "execute_result"
    }
   ],
   "source": []
  },
  {
   "cell_type": "code",
   "execution_count": null,
   "id": "ceab13d3",
   "metadata": {},
   "outputs": [],
   "source": []
  }
 ],
 "metadata": {
  "kernelspec": {
   "display_name": "Python 3 (ipykernel)",
   "language": "python",
   "name": "python3"
  },
  "language_info": {
   "codemirror_mode": {
    "name": "ipython",
    "version": 3
   },
   "file_extension": ".py",
   "mimetype": "text/x-python",
   "name": "python",
   "nbconvert_exporter": "python",
   "pygments_lexer": "ipython3",
   "version": "3.9.7"
  }
 },
 "nbformat": 4,
 "nbformat_minor": 5
}
